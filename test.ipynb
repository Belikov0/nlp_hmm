{
 "cells": [
  {
   "cell_type": "code",
   "execution_count": 1,
   "metadata": {},
   "outputs": [],
   "source": [
    "from match import Match\n",
    "from hmm import HMM\n",
    "from nlputils import * \n",
    "from bigram import Bigram\n",
    "\n",
    "import jieba\n",
    "import os\n",
    "import numpy as np"
   ]
  },
  {
   "cell_type": "code",
   "execution_count": 2,
   "metadata": {},
   "outputs": [],
   "source": [
    "text_file_path = './corpus/2021.txt'\n",
    "dest_folder = './states/'\n",
    "states_file_path = dest_folder + os.path.basename(text_file_path)\n",
    "# text_to_state(text_file_path, dest_folder)\n",
    "corpus = read_corpus_or_states_for_hmm(text_file_path)\n",
    "states = read_corpus_or_states_for_hmm(states_file_path)"
   ]
  },
  {
   "cell_type": "code",
   "execution_count": 3,
   "metadata": {},
   "outputs": [],
   "source": [
    "train, test = yield_data(zip(corpus, states), )\n",
    "corpus_train, states_train = zip(*train)\n",
    "corpus_test, states_test = zip(*test)"
   ]
  },
  {
   "cell_type": "code",
   "execution_count": 4,
   "metadata": {},
   "outputs": [],
   "source": [
    "bigram_model = Bigram()\n",
    "bigram_model.train(corpus=corpus_train)"
   ]
  },
  {
   "cell_type": "code",
   "execution_count": 5,
   "metadata": {},
   "outputs": [
    {
     "data": {
      "text/plain": [
       "[5.121231119277258e+113, 1.7905922213854338e+37]"
      ]
     },
     "execution_count": 5,
     "metadata": {},
     "output_type": "execute_result"
    }
   ],
   "source": [
    "probs = []\n",
    "for test in corpus_test[:2]:\n",
    "    res = test.split(\" \")\n",
    "    prob, details = bigram_model.get_prob_smooth(res)\n",
    "    probs.append(prob)\n",
    "probs"
   ]
  },
  {
   "cell_type": "code",
   "execution_count": 8,
   "metadata": {},
   "outputs": [
    {
     "data": {
      "text/plain": [
       "['今天天', '气', '不错']"
      ]
     },
     "execution_count": 8,
     "metadata": {},
     "output_type": "execute_result"
    }
   ],
   "source": [
    "res = bigram_model.disambiguation([[\"今天天\",\"气\",\"不错\"] , [\"今天\",\"天气\",\"不错\"]])\n",
    "res "
   ]
  }
 ],
 "metadata": {
  "kernelspec": {
   "display_name": "nlp",
   "language": "python",
   "name": "python3"
  },
  "language_info": {
   "codemirror_mode": {
    "name": "ipython",
    "version": 3
   },
   "file_extension": ".py",
   "mimetype": "text/x-python",
   "name": "python",
   "nbconvert_exporter": "python",
   "pygments_lexer": "ipython3",
   "version": "3.12.0"
  }
 },
 "nbformat": 4,
 "nbformat_minor": 2
}
