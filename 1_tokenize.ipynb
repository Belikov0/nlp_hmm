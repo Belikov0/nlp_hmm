{
 "cells": [
  {
   "cell_type": "markdown",
   "metadata": {},
   "source": [
    "### 导入需要的库"
   ]
  },
  {
   "cell_type": "code",
   "execution_count": 1,
   "metadata": {},
   "outputs": [],
   "source": [
    "from hmm import text_to_state, HMM\n",
    "from match import Match\n",
    "from nlputils import *\n",
    "import os\n",
    "import jieba"
   ]
  },
  {
   "cell_type": "markdown",
   "metadata": {},
   "source": [
    "使用`text_to_state`将目标训练语料转为对应的状态文件并输出"
   ]
  },
  {
   "cell_type": "code",
   "execution_count": 2,
   "metadata": {},
   "outputs": [
    {
     "name": "stderr",
     "output_type": "stream",
     "text": [
      "100%|██████████| 426206/426206 [00:05<00:00, 71709.67it/s] \n"
     ]
    }
   ],
   "source": [
    "text_file_path = './corpus/2021.txt'\n",
    "dest_folder = './states/'\n",
    "states_file_path = dest_folder + os.path.basename(text_file_path)\n",
    "text_to_state(text_file_path, dest_folder)"
   ]
  },
  {
   "cell_type": "markdown",
   "metadata": {},
   "source": [
    "将用于训练的文本语料和状态序列文件导入"
   ]
  },
  {
   "cell_type": "code",
   "execution_count": 3,
   "metadata": {},
   "outputs": [
    {
     "data": {
      "text/plain": [
       "426206"
      ]
     },
     "execution_count": 3,
     "metadata": {},
     "output_type": "execute_result"
    }
   ],
   "source": [
    "corpus = read_corpus_or_states_for_hmm(text_file_path)\n",
    "states = read_corpus_or_states_for_hmm(states_file_path)\n",
    "len(corpus)"
   ]
  },
  {
   "cell_type": "markdown",
   "metadata": {},
   "source": [
    "使用`yield_data`产生训练语料与测试语料"
   ]
  },
  {
   "cell_type": "code",
   "execution_count": 5,
   "metadata": {},
   "outputs": [],
   "source": [
    "# corpus_train, corpus_valid = yield_data(corpus)\n",
    "# states_train, states_valid = yield_data(states)\n",
    "train, test = yield_data(zip(corpus, states))\n",
    "corpus_train, states_train = zip(*train)\n",
    "corpus_test, states_test = zip(*test)"
   ]
  },
  {
   "cell_type": "markdown",
   "metadata": {},
   "source": [
    "创建`HMM`模型，并使用训练语料序列和训练状态序列进行训练"
   ]
  },
  {
   "cell_type": "code",
   "execution_count": 6,
   "metadata": {},
   "outputs": [],
   "source": [
    "hmm = HMM()\n",
    "hmm.train(corpus_train, states_train)"
   ]
  },
  {
   "cell_type": "markdown",
   "metadata": {},
   "source": [
    "使用向前算法计算语料生成的概率，此处的概率为伪概率，在`HMM`的实现中为了避免浮点数过小而消失，会在概率较小时对其进行一次放大"
   ]
  },
  {
   "cell_type": "code",
   "execution_count": 7,
   "metadata": {},
   "outputs": [
    {
     "data": {
      "text/plain": [
       "4.0399489810399215e-19"
      ]
     },
     "execution_count": 7,
     "metadata": {},
     "output_type": "execute_result"
    }
   ],
   "source": [
    "hmm.forward(\"今天天气真不错\")"
   ]
  },
  {
   "cell_type": "markdown",
   "metadata": {},
   "source": [
    "调用`tokenzie`进行分词，方法输出状态序列\n",
    "\n",
    "分词算法是Viterbi算法实现"
   ]
  },
  {
   "cell_type": "code",
   "execution_count": 8,
   "metadata": {},
   "outputs": [
    {
     "data": {
      "text/plain": [
       "(['B', 'E', 'S', 'B', 'E', 'B', 'M', 'E', 'S', 'B', 'E', 'B', 'E', 'S'],\n",
       " ['今天', '的', '天气', '真不错', '。', '我有', '十块', '钱'])"
      ]
     },
     "execution_count": 8,
     "metadata": {},
     "output_type": "execute_result"
    }
   ],
   "source": [
    "states, res = hmm.tokenize(\"今天的天气真不错。我有十块钱\")\n",
    "states, res"
   ]
  },
  {
   "cell_type": "code",
   "execution_count": 10,
   "metadata": {},
   "outputs": [
    {
     "data": {
      "text/plain": [
       "(['国家', '卫健委', '新闻', '发言人', '、', '宣传司', '副', '司长', '米锋', '说'],\n",
       " ['国家', '卫健委', '新闻', '发言人', '、', '宣传司', '副司长', '米锋', '说'])"
      ]
     },
     "execution_count": 10,
     "metadata": {},
     "output_type": "execute_result"
    }
   ],
   "source": [
    "states, res = hmm.tokenize(\"国家卫健委新闻发言人、宣传司副司长米锋说\")\n",
    "jieba_res = jieba.lcut(\"国家卫健委新闻发言人、宣传司副司长米锋说\", cut_all=False)\n",
    "res, jieba_res"
   ]
  },
  {
   "cell_type": "markdown",
   "metadata": {},
   "source": [
    "以`jieba`的分词结果作为标准结果，在测试集上计算PRF值，并保存`HMM`的分词结果。"
   ]
  },
  {
   "cell_type": "code",
   "execution_count": 11,
   "metadata": {},
   "outputs": [],
   "source": [
    "hmm_res = []\n",
    "jieba_res = []\n",
    "output_folder = './results/'\n",
    "f = open(os.path.join(output_folder, 'hmm_result.txt'), 'w', encoding='utf-8')\n",
    "for test in tqdm(corpus_test):\n",
    "    test = test.replace(\" \", \"\")\n",
    "    states, hmm_tokens = hmm.tokenize(test)\n",
    "    jieba_tokens = jieba.lcut(test, cut_all=False)\n",
    "\n",
    "    # 写入\n",
    "    for token in hmm_tokens:\n",
    "        if token != hmm_tokens[-1]:\n",
    "            f.write(token + ' ')\n",
    "        else:\n",
    "            f.write(token + '\\n')\n",
    "            \n",
    "    hmm_res += hmm_tokens\n",
    "    jieba_res += jieba_tokens\n",
    "f.close()\n"
   ]
  },
  {
   "cell_type": "code",
   "execution_count": 12,
   "metadata": {},
   "outputs": [
    {
     "data": {
      "text/plain": [
       "(0.815480534955231, 0.789920834875533, 0.8024972160880716)"
      ]
     },
     "execution_count": 12,
     "metadata": {},
     "output_type": "execute_result"
    }
   ],
   "source": [
    "real, pred, correct = cal_count(jieba_res, hmm_res)\n",
    "p, r, f = cal_prf(real, pred, correct)\n",
    "p, r, f"
   ]
  },
  {
   "cell_type": "markdown",
   "metadata": {},
   "source": [
    "##### $K$折交叉验证\n",
    "\n",
    "定义用于k折交叉验证的函数"
   ]
  },
  {
   "cell_type": "code",
   "execution_count": 4,
   "metadata": {},
   "outputs": [],
   "source": [
    "def k_fold(dataset, k=1):\n",
    "    res = []\n",
    "    for train_set, valid_set in k_fold_cross(dataset, k):\n",
    "        corpus_train, states_train = zip(*train_set)\n",
    "        corpus_valid, states_valid = zip(*valid_set)\n",
    "        hmm = HMM()\n",
    "        hmm.train(corpus_train, states_train)\n",
    "\n",
    "        hmm_res = []\n",
    "        jieba_res = []\n",
    "        for valid in corpus_valid:\n",
    "            valid = valid.replace(\" \", \"\")\n",
    "            states, hmm_tokens = hmm.tokenize(valid)\n",
    "            jieba_tokens = jieba.lcut(valid, cut_all=False)\n",
    "            hmm_res += hmm_tokens\n",
    "            jieba_res += jieba_tokens\n",
    "        real, pred, correct = cal_count(jieba_res, hmm_res)\n",
    "        p, r, f = cal_prf(real, pred, correct)\n",
    "        res.append((p, r, f))\n",
    "        \n",
    "    return res\n",
    "        "
   ]
  },
  {
   "cell_type": "markdown",
   "metadata": {},
   "source": [
    "进行k折交叉验证，将结果使用绘图函数画出"
   ]
  },
  {
   "cell_type": "code",
   "execution_count": 6,
   "metadata": {},
   "outputs": [
    {
     "name": "stderr",
     "output_type": "stream",
     "text": [
      "Building prefix dict from the default dictionary ...\n",
      "Loading model from cache C:\\WINDOWS\\TEMP\\jieba.cache\n",
      "Loading model cost 0.441 seconds.\n",
      "Prefix dict has been built successfully.\n"
     ]
    }
   ],
   "source": [
    "res = k_fold(zip(corpus_hmm, states_hmm), 5)"
   ]
  },
  {
   "cell_type": "code",
   "execution_count": 14,
   "metadata": {},
   "outputs": [
    {
     "data": {
      "image/png": "[encoded data removed]",
      "text/plain": [
       "<Figure size 640x480 with 1 Axes>"
      ]
     },
     "metadata": {},
     "output_type": "display_data"
    },
    {
     "data": {
      "image/png": "[encoded data removed]",
      "text/plain": [
       "<Figure size 640x480 with 1 Axes>"
      ]
     },
     "metadata": {},
     "output_type": "display_data"
    },
    {
     "data": {
      "image/png": "[encoded data removed]",
      "text/plain": [
       "<Figure size 640x480 with 1 Axes>"
      ]
     },
     "metadata": {},
     "output_type": "display_data"
    }
   ],
   "source": [
    "p, r, f = zip(*res)\n",
    "show_plot(list(range(1, 6)), p, \"\", \"P\")\n",
    "show_plot(list(range(1, 6)), r, \"\", \"R\")\n",
    "show_plot(list(range(1, 6)), f, \"\", \"F\")"
   ]
  },
  {
   "cell_type": "code",
   "execution_count": 13,
   "metadata": {},
   "outputs": [
    {
     "name": "stdout",
     "output_type": "stream",
     "text": [
      "1 fold: P=0.8176687105115172, R=0.7913088751037163, F=0.8042728665793901\n",
      "2 fold: P=0.8173017354857717, R=0.7916019702272012, F=0.804246595720214\n",
      "3 fold: P=0.8178321947733931, R=0.7918711919160559, F=0.804642346183337\n",
      "4 fold: P=0.817967102006757, R=0.7920081444807656, F=0.8047783444125164\n",
      "5 fold: P=0.8178391476528805, R=0.792146379732672, F=0.8047877561594247\n"
     ]
    }
   ],
   "source": [
    "fold = 1\n",
    "for p_, r_, f_ in zip(p, r, f):\n",
    "    print(f\"{fold} fold: P={p_}, R={r_}, F={f_}\")\n",
    "    fold += 1"
   ]
  }
 ],
 "metadata": {
  "kernelspec": {
   "display_name": "Python 3",
   "language": "python",
   "name": "python3"
  },
  "language_info": {
   "codemirror_mode": {
    "name": "ipython",
    "version": 3
   },
   "file_extension": ".py",
   "mimetype": "text/x-python",
   "name": "python",
   "nbconvert_exporter": "python",
   "pygments_lexer": "ipython3",
   "version": "3.12.0"
  }
 },
 "nbformat": 4,
 "nbformat_minor": 2
}
