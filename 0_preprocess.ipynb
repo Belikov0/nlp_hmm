{
 "cells": [
  {
   "cell_type": "markdown",
   "metadata": {},
   "source": [
    "### 预处理"
   ]
  },
  {
   "cell_type": "code",
   "execution_count": 1,
   "metadata": {},
   "outputs": [],
   "source": [
    "import jieba\n",
    "import json\n",
    "import os\n",
    "from tqdm import tqdm"
   ]
  },
  {
   "cell_type": "code",
   "execution_count": 2,
   "metadata": {},
   "outputs": [
    {
     "name": "stdout",
     "output_type": "stream",
     "text": [
      "./corpus\\2021.txt\n"
     ]
    }
   ],
   "source": [
    "json_flie_path = \"./corpus/2021.jsonl\"\n",
    "txt_file_name = os.path.basename(json_flie_path).split('.')[0] + \".txt\"\n",
    "txt_flie_path = os.path.join(os.path.dirname(json_flie_path), txt_file_name)\n",
    "print(txt_flie_path)"
   ]
  },
  {
   "cell_type": "code",
   "execution_count": 3,
   "metadata": {},
   "outputs": [
    {
     "data": {
      "text/plain": [
       "(dict_keys(['date', 'title', 'text']),\n",
       " ['站在“两个一百年”奋斗目标的历史交汇点上，开启全面建设社会主义现代化国家新征程的中国，将一如既往做世界和平的建设者、全球发展的贡献者、国际秩序的维护者，继续推动构建人类命运共同体，携手各国共创人类美好未来',\n",
       "  '',\n",
       "  '“经历了一年来的风雨，我们比任何时候都更加深切体会到人类命运共同体的意义。”习近平主席发表的二〇二一年新年贺词，说出了世界各国人民的心里话。',\n",
       "  '告别极不平凡的2020年之际，世界各国人民共同祈愿风雨之后见彩虹；更能懂得，在2021年的新征程上，需要大家携起手来，风雨同舟，早日驱散新冠肺炎疫情的阴霾，努力建设更加美好的地球家园。',\n",
       "  '2020年，人类共同经历了一场惊心动魄的风险挑战，有乌云遮天、狂风骤雨，也有云开日出、美丽彩虹。',\n",
       "  '面对纷繁复杂的国际国内形势，中国统筹中华民族伟大复兴战略全局和世界百年未有之大变局，集中力量办好自己的事，以人民至上、生命至上诠释了人间大爱，用众志成城、坚忍不拔书写了抗疫史诗，为维护世界和平与发展作出了新贡献。中国答卷，人民满意、世界瞩目、可以载入史册。国际舆论评价：“中国为如此不平凡的一年画上了漂亮的句号”“中国又一次办到了……从在全球经济中的作用看，中国变得比以前更加强大”。',\n",
       "  '凡是过往，皆为序章。尽管笼罩全球的新冠肺炎疫情阴霾尚未散去，但人类命运共同体理念指导实践的重大价值日益为国际社会所普遍认同，成为推动人类走出当前困境的巨大信心源和动力源。',\n",
       "  '中国秉持人类命运共同体理念，推进中国特色大国外交，推动并参与国际抗疫合作，为全球抗击新冠肺炎病魔、促进和平与发展作出了积极贡献。推动全球团结抗疫，打造人类卫生健康共同体；在上海合作组织框架内首次提出构建“卫生健康共同体”“安全共同体”“发展共同体”“人文共同体”重大倡议，在亚太经合组织领导人非正式会议上系统阐述构建开放包容、创新增长、互联互通、合作共赢的亚太命运共同体，为新形势下建设更为紧密的中国—东盟命运共同体提出重要倡议……习近平主席在多边舞台深入阐述人类命运共同体的构建路径，推动人类命运共同体建设走深走实。',\n",
       "  '展望2021年，各国人民对构建人类命运共同体的愿望势将更加强烈。纵然有新冠肺炎疫情肆虐拖累世界经济的脚步，纵然有单边主义、保护主义、霸权主义不时作祟，和平、发展、合作、共赢的时代潮流也不可能改变。全球范围内，团结合作、科学抗疫的呼声高涨，以多边合作应对挑战、以对话协商化解分歧的力量正在不断积蓄，推动实现世界经济强劲、可持续、平衡、包容增长的共识势将进一步凝聚。',\n",
       "  '大道不孤，天下一家。“我同国际上新老朋友进行了多次通话，出席了多场‘云会议’，谈得最多的就是和衷共济、团结抗疫”“我们通过奋斗，披荆斩棘，走过了万水千山。我们还要继续奋斗，勇往直前，创造更加灿烂的辉煌”……习近平主席的话语，彰显笃志为人民谋幸福、为民族谋复兴、为世界谋大同的坚定信念和宽广胸怀。站在“两个一百年”奋斗目标的历史交汇点上，开启全面建设社会主义现代化国家新征程的中国，将一如既往做世界和平的建设者、全球发展的贡献者、国际秩序的维护者，继续推动构建人类命运共同体，携手各国共创人类美好未来。'],\n",
       " 25115)"
      ]
     },
     "execution_count": 3,
     "metadata": {},
     "output_type": "execute_result"
    }
   ],
   "source": [
    "data = []\n",
    "with open(json_flie_path, \"r\", encoding=\"utf-8\") as f:\n",
    "    for line in f:\n",
    "        data.append(json.loads(line))\n",
    "\n",
    "# print(data[0]['text'].replace(\"\\u3000\", \"\").split(\"\\n\"))\n",
    "data[0].keys(), data[0]['text'].replace(\"\\u3000\", \"\").split('\\n'), len(data)"
   ]
  },
  {
   "cell_type": "markdown",
   "metadata": {},
   "source": [
    "处理文本，替换掉一些网页中的字符串如空格，网页缩进'\\u3000'和网页空格'\\xa0'"
   ]
  },
  {
   "cell_type": "code",
   "execution_count": 14,
   "metadata": {},
   "outputs": [
    {
     "name": "stderr",
     "output_type": "stream",
     "text": [
      "100%|██████████| 25115/25115 [00:00<00:00, 103841.82it/s]\n"
     ]
    },
    {
     "data": {
      "text/plain": [
       "426205"
      ]
     },
     "execution_count": 14,
     "metadata": {},
     "output_type": "execute_result"
    }
   ],
   "source": [
    "lines = []\n",
    "for page in tqdm(data):\n",
    "    lines += [line for line in  page.get('text', \"\").replace(\"\\u3000\", \"\").replace(\" \",\"\").replace(\"\\xa0\", \"\").split('\\n') if line != '']\n",
    "len(lines)"
   ]
  },
  {
   "cell_type": "code",
   "execution_count": 16,
   "metadata": {},
   "outputs": [
    {
     "name": "stderr",
     "output_type": "stream",
     "text": [
      "  1%|          | 4354/426205 [00:01<01:37, 4337.36it/s]"
     ]
    },
    {
     "name": "stderr",
     "output_type": "stream",
     "text": [
      "100%|██████████| 426205/426205 [01:34<00:00, 4531.95it/s] \n"
     ]
    }
   ],
   "source": [
    "results = \"\"\n",
    "with open(txt_flie_path, 'w', encoding='utf-8') as f:\n",
    "    for line in tqdm(lines):\n",
    "        res = jieba.lcut(line, cut_all=False)\n",
    "        f.write(' '.join(res)+'\\n')\n",
    "    "
   ]
  }
 ],
 "metadata": {
  "kernelspec": {
   "display_name": "Python 3",
   "language": "python",
   "name": "python3"
  },
  "language_info": {
   "codemirror_mode": {
    "name": "ipython",
    "version": 3
   },
   "file_extension": ".py",
   "mimetype": "text/x-python",
   "name": "python",
   "nbconvert_exporter": "python",
   "pygments_lexer": "ipython3",
   "version": "3.10.9"
  }
 },
 "nbformat": 4,
 "nbformat_minor": 2
}
